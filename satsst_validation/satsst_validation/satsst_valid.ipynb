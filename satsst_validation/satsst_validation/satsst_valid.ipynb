{
 "cells": [
  {
   "cell_type": "code",
   "execution_count": null,
   "metadata": {},
   "outputs": [],
   "source": []
  },
  {
   "cell_type": "markdown",
   "metadata": {},
   "source": [
    "![header](https://i.imgur.com/I4ake6d.jpg)\n",
    "<div style=\"text-align: center;\">\n",
    "    <div style=\"max-width:50%; display:inline-block;\">\n",
    "        <img src=\"https://immerse-ocean.eu/img/headers/immerse-header-logo.png\" style=\"\"/> \n",
    "    </div>\n",
    "    <div style=\"max-width:500px; display:inline-block;\">\n",
    "        <img src=\"https://www.unibo.it/it/immagini/1_UNIBO_Ateneo_vert_pos.jpg/@@images/51c830e4-97ca-4516-bdf8-64ea327bdab3.jpeg\" style=\"\"/> \n",
    "    </div>\n",
    "</div>"
   ]
  },
  {
   "cell_type": "markdown",
   "metadata": {},
   "source": [
    "# COPERNICUS MARINE Satellite SST Validation\n",
    "\n",
    "***\n",
    "\n",
    "<center><h1>How to use Satellite Sea Surface Temperature (SST) measurements to validate NEMO model simulations</h1></center>"
   ]
  },
  {
   "cell_type": "markdown",
   "metadata": {},
   "source": [
    "***\n",
    "# Table of contents\n",
    "- [Introduction](#1\\)-Introduction)\n",
    "- [About the data](#2\\)-About-the-data)\n",
    "- [Jupyter notebook and required Python modules](#3\\)-Jupyter-notebook-and-required-Python-modules)\n",
    "- [Setup and Download Data](#4\\)-Setup-and-Download-Data)\n",
    "- [Read model and satellite SST Data](#5\\)-Read-model-and-satellite-SST-Data)\n",
    "- [Interpolate model SST on the satellite SST grid](#6\\)-Interpolate-model-SST-on-the-satellite-SST-grid)\n",
    "- [Exercise n.1: Generate model and satellite SST maps](#7\\)-Exercise-n.1:-Generate-model-and-satellite-SST-maps)\n",
    "- [Exercise n.2: Compute and plot RMSE between Model and Satellite SST](#8\\)-Exercise-n.2:-Compute-and-plot-RMSE-between-Model-and-Satellite-SST)\n",
    "***"
   ]
  },
  {
   "cell_type": "markdown",
   "metadata": {},
   "source": [
    "# 1) Introduction"
   ]
  },
  {
   "cell_type": "markdown",
   "metadata": {},
   "source": [
    "[Go back to the \"Table of contents\"](#Table-of-contents)"
   ]
  },
  {
   "cell_type": "markdown",
   "metadata": {},
   "source": [
    "The objective of this exercise is to use satellite Sea Surface Temperature (SST) data  ([SST_MED_SST_L4_NRT_OBSERVATIONS_010_004](https://data.marine.copernicus.eu/product/SST_MED_SST_L4_NRT_OBSERVATIONS_010_004) product) to perform the validation of the high-resolution nested model implemented in the Galicia coastal area (NW of Spain). The simulation started on 7 November 2002 at 00:00 and ran until 17 November 2002 at 24:00. The model is based on NEMO.v4.2 code and have been developed at [UNIBO](https://www.unibo.it/) in the context of the IMMERSE project.\n",
    "\n",
    "In particular, we will:\n",
    "- download and extract SST data from zenodo repository\n",
    "- read model and satellite SST data\n",
    "- interpolate the model SST on the satellite SST grid \n",
    "- generate model and satellite SST maps\n",
    "- compute and plot the RMSE between measured and interpolated model data"
   ]
  },
  {
   "cell_type": "markdown",
   "metadata": {},
   "source": [
    "# 2) About the data"
   ]
  },
  {
   "cell_type": "markdown",
   "metadata": {},
   "source": [
    "[Go back to the \"Table of contents\"](#Table-of-contents)"
   ]
  },
  {
   "cell_type": "markdown",
   "metadata": {},
   "source": [
    "## 2.1) Model SST Data\n",
    "\n",
    "A NEMO configuration for the Galicia coastal area (NW of Spain) with resolution of ~2km was setup based on NEMO.v4.2 code. The model is initialized and forced at the open ocean boundaries via the CMEMS reanalysis fields \n",
    "([IBI_REANALYSIS_PHYS_005_002](https://data.marine.copernicus.eu/product/IBI_MULTIYEAR_PHY_005_002/description) product) with 1/12° horizontal resolution and receives its atmospheric forcing from ECMWF operational analyses, with a spatial resolution of 0.25° and 1-h temporal resolution. Model outputs are delivered with this exercise within the subfolder './data/child/' containing the land-sea mask and the SST netcdf files, corresponding to the period under consideration"
   ]
  },
  {
   "cell_type": "markdown",
   "metadata": {},
   "source": [
    "### 2.2) Satellite SST Data \n",
    "\n",
    "The satellite SST datasets used for model validation are the daily gap-free (L4) [SST_MED_SST_L4_NRT_OBSERVATIONS_010_004](https://data.marine.copernicus.eu/product/SST_MED_SST_L4_NRT_OBSERVATIONS_010_004) product at (0.0417° x 0.0417°) horizontal resolution representative of night SST values (00:00 UTC). (Pisano et al 2016; doi:10.1016/j.rse.2016.01.019). The data are delivered with this exercise within the subfolder './data/sat/'"
   ]
  },
  {
   "cell_type": "markdown",
   "metadata": {},
   "source": [
    "# 3) Jupyter notebook and required Python modules"
   ]
  },
  {
   "cell_type": "markdown",
   "metadata": {},
   "source": [
    "[Go back to the \"Table of contents\"](#Table-of-contents)"
   ]
  },
  {
   "cell_type": "markdown",
   "metadata": {},
   "source": [
    "To execute this notebook a jupyter notebook client is necessary which can be installed using \n",
    "[Anaconda Distribution](https://docs.anaconda.com/anaconda/install/index.html).\n",
    "Anaconda Distribution includes Python, the Jupyter Notebook, and other commonly used packages for the scientific community."
   ]
  },
  {
   "cell_type": "markdown",
   "metadata": {},
   "source": [
    "**Requirement: Python version 3.7** onwards"
   ]
  },
  {
   "cell_type": "markdown",
   "metadata": {},
   "source": [
    "Check your Python version with:"
   ]
  },
  {
   "cell_type": "code",
   "execution_count": null,
   "metadata": {},
   "outputs": [],
   "source": [
    "!python --version"
   ]
  },
  {
   "cell_type": "markdown",
   "metadata": {},
   "source": [
    "If needed you can install the right Python version in this way:\n",
    "```\n",
    "conda install python=3.7\n",
    "```"
   ]
  },
  {
   "cell_type": "markdown",
   "metadata": {},
   "source": [
    "The following Python modules are needed for running the exercises:"
   ]
  },
  {
   "cell_type": "markdown",
   "metadata": {},
   "source": [
    "| Module name | Description |\n",
    "| :---: | :---|\n",
    "| **os** | [Miscellaneous operating system interfaces](https://docs.python.org/3.7/library/os.html) for managing paths, \n",
    "| **glob** | [Unix style pathname pattern expansion](https://docs.python.org/3.7/library/glob.html) this module finds all the pathnames matching a specified pattern according to the rules used by the Unix shell |\n",
    "| **math** | [math](https://docs.python.org/3/library/math.html) is a built-in module in the Python 3 standard library that provides standard mathematical constants and functions.  |\n",
    "| **numpy** | [NumPy](https://numpy.org/) is the fundamental package for scientific computing with Python and for managing ND-arrays |\n",
    "| **xarray** | [Xarray](http://xarray.pydata.org/en/stable/) introduces labels in the form of dimensions, coordinates and attributes on top of raw NumPy-like arrays, which allows for a more intuitive, more concise, and less error-prone developer experience. |\n",
    "| **scipy** |[SciPy](https://docs.scipy.org/doc/scipy/index.html) is an open-source software for mathematics, science, and engineering. It includes modules for statistics, optimization, integration, linear algebra, and more. |\n",
    "| **matplotlib** |[Matplotlib](https://matplotlib.org/) is a Python 2D plotting library which produces publication quality figures |\n",
    "| **cartopy** |[Cartopy](https://scitools.org.uk/cartopy/docs/latest/) is a Python package designed for geospatial data processing in order to produce maps and other geospatial data analyses. |\n",
    "| **python-wget** |[python-wget] is a Python package designed to download remote files from the internet."
   ]
  },
  {
   "cell_type": "markdown",
   "metadata": {},
   "source": [
    "You may already have all the python packages you need.\n",
    "If you are using conda as package manager, you can check by doing:\n",
    "```\n",
    "conda list\n",
    "```"
   ]
  },
  {
   "cell_type": "markdown",
   "metadata": {},
   "source": [
    "If some packages are missing you can install them into the current environment using the \"conda install\" command type the following:\n",
    "```\n",
    "conda install PACKAGES-LIST\n",
    "```"
   ]
  },
  {
   "cell_type": "markdown",
   "metadata": {},
   "source": [
    "# 4) Setup and Download Data"
   ]
  },
  {
   "cell_type": "markdown",
   "metadata": {},
   "source": [
    "[Go back to the \"Table of contents\"](#Table-of-contents)"
   ]
  },
  {
   "cell_type": "markdown",
   "metadata": {},
   "source": [
    "<div class=\"alert alert-block alert-warning\">\n",
    "    <h3>Before starting, read carefully the following execution notes</h3>\n",
    "    <ul><li>\n",
    "        Execute each cell through the <button class=\"btn btn-default btn-xs\"><i class=\"icon-play fa fa-play\">\n",
    "        </i></button> button from the icons menu above the notebook (otherwise press the keyboard shortcut `Shift` + `Enter`).\n",
    "        </li>\n",
    "    <li>\n",
    "        If for any reason the notebook stops working, from the same menu click on the <button class=\"btn btn-default btn-xs\"><i class=\"fa fa-repeat icon-repeat\"></i></button> button. Then, in the text menu above the icons one, click on \"Cell\" and select \"Run All Above\".\n",
    "        </li></ul>\n",
    "</div>"
   ]
  },
  {
   "cell_type": "markdown",
   "metadata": {},
   "source": [
    "## Import the packages"
   ]
  },
  {
   "cell_type": "code",
   "execution_count": null,
   "metadata": {},
   "outputs": [],
   "source": [
    "import os\n",
    "from glob import glob\n",
    "import math\n",
    "import numpy as np\n",
    "import xarray as xr\n",
    "import matplotlib.pyplot as plt\n",
    "from mpl_toolkits.axes_grid1.inset_locator import inset_axes\n",
    "from matplotlib.ticker import FuncFormatter\n",
    "import cartopy.crs as ccrs\n",
    "import cartopy.feature as cfeature\n",
    "import cartopy.mpl.ticker as cticker\n",
    "from scipy import interpolate"
   ]
  },
  {
   "cell_type": "markdown",
   "metadata": {},
   "source": [
    "## Download and extract data"
   ]
  },
  {
   "cell_type": "code",
   "execution_count": null,
   "metadata": {},
   "outputs": [],
   "source": [
    "# download data if not already there\n",
    "print('download data')\n",
    "try:\n",
    "    import wget\n",
    "except:\n",
    "    print('wget not installed, please install it: conda install -c conda-forge python-wget') \n",
    "    \n",
    "if (not os.path.exists('./data.zip')) and (not os.path.exists('./data')):\n",
    "    url = 'https://zenodo.org/record/7516467/files/data.zip'\n",
    "    filename = wget.download(url)\n",
    "else:\n",
    "    print('zip or data direcotry already present') "
   ]
  },
  {
   "cell_type": "code",
   "execution_count": null,
   "metadata": {},
   "outputs": [],
   "source": [
    "print('unzip data.zip')\n",
    "try:\n",
    "    import zipfile\n",
    "except:            \n",
    "    print('library zipfile missing data needs to be extracted manually')\n",
    "        \n",
    "if (os.path.exists('./data.zip')) and (not os.path.exists('./data')):  \n",
    "    with zipfile.ZipFile('./data.zip', 'r') as zip_ref:\n",
    "        zip_ref.extractall('./')        \n",
    "        print('done extracting zip archiv')\n",
    "else:\n",
    "    print('zip or data direcotry already present')"
   ]
  },
  {
   "cell_type": "markdown",
   "metadata": {},
   "source": [
    "## Inspect directories"
   ]
  },
  {
   "cell_type": "code",
   "execution_count": null,
   "metadata": {},
   "outputs": [],
   "source": [
    "def checkDir(outPath):\n",
    "    \"function for creating paths, if needed\"\n",
    "    if not os.path.exists(outPath):\n",
    "        os.makedirs(outPath)\n",
    "        print('Creating output foler: '+str(outPath))\n",
    "        \n",
    "path_data = {}\n",
    "path_data[\"root\"] = \"./data\"\n",
    "path_data[\"sat\"]    = \"./data/sat\"\n",
    "path_data[\"child\"]  = \"./data/child\"\n",
    "\n",
    "path_figure = {}\n",
    "path_figure['root']  = \"./figures\"\n",
    "path_figure['sat']   = \"./figures/sat\"\n",
    "path_figure['child'] = \"./figures/child\"\n",
    "\n",
    "#Check if directories exisit:\n",
    "for diri in path_figure['root'],path_figure['sat'],path_figure['child']:\n",
    "    checkDir(diri)"
   ]
  },
  {
   "cell_type": "markdown",
   "metadata": {},
   "source": [
    "# 5) Read model and satellite SST Data"
   ]
  },
  {
   "cell_type": "markdown",
   "metadata": {},
   "source": [
    "[Go back to the \"Table of contents\"](#Table-of-contents)"
   ]
  },
  {
   "cell_type": "markdown",
   "metadata": {},
   "source": [
    "## Define file names"
   ]
  },
  {
   "cell_type": "code",
   "execution_count": null,
   "metadata": {},
   "outputs": [],
   "source": [
    "ndays = 11\n",
    "\n",
    "files = sorted([os.path.basename(filename) for filename in glob(path_data[\"child\"]+\"/\"+\"SURF_1h_*grid_T*\")])\n",
    "# print(files)\n",
    "file_childmod_T = [fl for fl in files[0:ndays] ] #files[0:ndays]\n",
    "date = [files[iday].split(\"_\")[2] for iday in range(ndays)]\n",
    "file_satsst = [str(date[iday])+\"000000-GOS-L4_GHRSST-SSTfnd-OISST_HR_REP-MED-v02.0-fv02.0.nc\" for iday in range(ndays)]\n",
    "# file_parMod_T = [\"oceBC_temp_\"+dat+\".nc\" for dat in date]\n",
    "\n",
    "file_meshmask = \"mesh_mask.nc\"\n",
    "\n",
    "print(\" --------------------------------------------------\")\n",
    "print(\" | file_childmod_T = \"+file_childmod_T[0])\n",
    "if len(file_childmod_T)>1: [print(\" |                   \"+fl) for fl in file_childmod_T[1:]]\n",
    "print(\" | file_satsst = \"+file_satsst[0])\n",
    "if len(file_satsst)>1: [print(\" |               \"+fl) for fl in file_satsst[1:]]\n",
    "print(\" --------------------------------------------------\")"
   ]
  },
  {
   "cell_type": "markdown",
   "metadata": {},
   "source": [
    "## Read nested model SST data"
   ]
  },
  {
   "cell_type": "code",
   "execution_count": null,
   "metadata": {},
   "outputs": [],
   "source": [
    "dimChild = {}\n",
    "crdChild = {}\n",
    "varChild = {}\n",
    "dimChild[\"lon\"] = \"nav_lon\"\n",
    "dimChild[\"lat\"] = \"nav_lat\"\n",
    "dimChild[\"time\"] = \"time_counter\"\n",
    "crdChild[\"lon\"] = \"nav_lon\"\n",
    "crdChild[\"lat\"] = \"nav_lat\"\n",
    "crdChild[\"time\"] = \"time_counter\"\n",
    "varChild[\"sst\"] = \"votemper\"\n",
    "\n",
    "print(\"=== READ SPACE DIMENSION\")\n",
    "with xr.open_dataset(path_data[\"child\"]+\"/\"+file_meshmask) as ds_childMesh:\n",
    "    # print(ds_childMesh)\n",
    "\n",
    "    nx_child = len(ds_childMesh[dimChild[\"lon\"]][0,:])\n",
    "    ny_child = len(ds_childMesh[dimChild[\"lat\"]][:,0])\n",
    "\n",
    "    print(\"   --------------------------------------------------\")\n",
    "    print(\"   |    nx_child = \"+str(nx_child))\n",
    "    print(\"   |    ny_child = \"+str(ny_child))\n",
    "    print(\"   --------------------------------------------------\")\n",
    "    \n",
    "print(\"=== READ SPACE COORDIANTEs\")\n",
    "lon1dt_child = xr.DataArray(np.zeros((nx_child)),dims=[dimChild[\"lon\"]])\n",
    "lat1dt_child = xr.DataArray(np.zeros((ny_child)),dims=[dimChild[\"lat\"]])\n",
    "lon2dt_child = xr.DataArray(np.zeros((ny_child,nx_child)),dims=[dimChild[\"lat\"],dimChild[\"lon\"]])\n",
    "lat2dt_child = xr.DataArray(np.zeros((ny_child,nx_child)),dims=[dimChild[\"lat\"],dimChild[\"lon\"]])\n",
    "mask2dt_child = xr.DataArray(np.zeros((ny_child,nx_child)),dims=[dimChild[\"lat\"],dimChild[\"lon\"]])\n",
    "\n",
    "with xr.open_dataset(path_data[\"child\"]+\"/\"+file_meshmask) as ds_childMesh:\n",
    "    # print(ds_childMesh)\n",
    "\n",
    "    lon1dt_child[0:nx_child] = ds_childMesh[\"glamt\"][0,0,0:nx_child]\n",
    "    lat1dt_child[0:ny_child] = ds_childMesh[\"gphit\"][0,0:ny_child,0]\n",
    "    # print(lon1dt_child)\n",
    "\n",
    "    # Builds 2D grids from 1D arrays\n",
    "    xx,yy = np.meshgrid(lon1dt_child[0:nx_child],lat1dt_child[0:ny_child])\n",
    "    lon2dt_child[0:ny_child,0:nx_child] = xr.DataArray(xx)\n",
    "    lat2dt_child[0:ny_child,0:nx_child] = xr.DataArray(yy)\n",
    "\n",
    "    mask2dt_child[0:ny_child,0:nx_child] = ds_childMesh[\"tmask\"][0,0,0:ny_child,0:nx_child]\n",
    "        \n",
    "print(\"=== READ TIME-DIMENSION\")\n",
    "\n",
    "## Open multiple files as a single datasets with open_mfdataset() functions\n",
    "with xr.open_mfdataset(list(map(lambda x: path_data[\"child\"]+\"/\"+x, file_childmod_T))) as ds_child:\n",
    "    # print(ds_child)\n",
    "    nt_childM = ds_child.dims[dimChild[\"time\"]]\n",
    "\n",
    "    print(\"   --------------------------------------------------\")\n",
    "    print(\"   |    nt_childM = \"+str(nt_childM))\n",
    "    print(\"   --------------------------------------------------\")\n",
    "\n",
    "print(\"=== READ TIME-COORDIANTEs/VARs\")\n",
    "stimeYYYYMMDD_child = np.empty((nt_childM), dtype=\"object\")\n",
    "time_child = xr.DataArray(np.empty((nt_childM)),dims=[dimChild[\"time\"]])\n",
    "SST_child  = xr.DataArray(np.zeros((nt_childM,ny_child,nx_child)),dims=[dimChild[\"time\"],dimChild[\"lat\"],dimChild[\"lon\"]])\n",
    "\n",
    "## Open multiple files as a single datasets with open_mfdataset() functions\n",
    "with xr.open_mfdataset(list(map(lambda x: path_data[\"child\"]+\"/\"+x, file_childmod_T))) as ds_child:\n",
    "    # print(ds_child)\n",
    "\n",
    "    stimeYYYYMMDD_child[0:nt_childM] = ds_child[crdChild[\"time\"]]\n",
    "    \n",
    "    SST_child[0:nt_childM,0:ny_child,0:nx_child] = np.where(mask2dt_child[0:ny_child,0:nx_child]==0, np.nan, ds_child[varChild[\"sst\"]].isel(deptht=0))\n"
   ]
  },
  {
   "cell_type": "markdown",
   "metadata": {},
   "source": [
    "## Read Satellite SST data"
   ]
  },
  {
   "cell_type": "code",
   "execution_count": null,
   "metadata": {},
   "outputs": [],
   "source": [
    "dimObs = {}\n",
    "crdObs = {}\n",
    "varObs = {}\n",
    "dimObs[\"lon\"] = \"lon\"\n",
    "dimObs[\"lat\"] = \"lat\"\n",
    "dimObs[\"time\"] = \"time\"\n",
    "crdObs[\"lon\"] = \"lon\"\n",
    "crdObs[\"lat\"] = \"lat\"\n",
    "crdObs[\"time\"] = \"time\"\n",
    "varObs[\"sst\"] = \"analysed_sst\"\n",
    "\n",
    "print(\"=== READ SPACE DIMENSION\")\n",
    "with xr.open_dataset(path_data[\"sat\"]+\"/\"+file_satsst[0]) as ds_sat:\n",
    "    # print(ds_sat)\n",
    "    nx_obs = ds_sat.dims[dimObs[\"lon\"]]\n",
    "    ny_obs = ds_sat.dims[dimObs[\"lat\"]]\n",
    "\n",
    "    lon1dt_obs = ds_sat[crdObs[\"lon\"]]\n",
    "    lat1dt_obs = ds_sat[crdObs[\"lat\"]]\n",
    "\n",
    "    idx_lon0 = np.argwhere(np.array(lon1dt_obs[:].values)>lon1dt_child[0].values)[0][0]\n",
    "    idx_lon1 = np.argwhere(np.array(lon1dt_obs[:].values)>lon1dt_child[nx_child-1].values)[0][0]-1\n",
    "\n",
    "    idx_lat0 = np.argwhere(np.array(lat1dt_obs[:].values)>lat1dt_child[0].values)[0][0]\n",
    "\n",
    "    idx_lat1 = np.argwhere(np.array(lat1dt_obs[:].values)>lat1dt_child[ny_child-1].values)[0][0]-1\n",
    "    # print(idx_lat0)\n",
    "    # print(idx_lat1)\n",
    "\n",
    "    nx_subobs = (idx_lon1 - idx_lon0) + 1\n",
    "    ny_subobs = (idx_lat1 - idx_lat0) + 1\n",
    "    \n",
    "    print(\" --------------------------------------------------\")\n",
    "    print(\" | nx_subobs = \"+str(nx_subobs))\n",
    "    print(\" | ny_subobs = \"+str(ny_subobs))\n",
    "    print(\" --------------------------------------------------\")\n",
    "    \n",
    "print(\"=== READ TIME-DIMENSION\")\n",
    "\n",
    "# Open multiple files as a single datasets with open_mfdataset() functions\n",
    "with xr.open_mfdataset(list(map(lambda x: path_data[\"sat\"]+\"/\"+x, file_satsst))) as ds_sat:\n",
    "    # print(ds_sat)\n",
    "    nt_subobs = ds_sat.dims[dimObs[\"time\"]]\n",
    "\n",
    "print(\" --------------------------------------------------\")\n",
    "print(\" | nt_subobs =\"+str(nt_subobs))\n",
    "print(\" --------------------------------------------------\")\n",
    "\n",
    "print(\"=== READ SPACE COORDIANTEs\")\n",
    "lon1dt_subobs  = xr.DataArray(np.zeros((nx_subobs)),dims=[dimObs[\"lon\"]])\n",
    "lat1dt_subobs  = xr.DataArray(np.zeros((ny_subobs)),dims=[dimObs[\"lat\"]])\n",
    "lon2dt_subobs  = xr.DataArray(np.zeros((ny_subobs,nx_subobs)),dims=[dimObs[\"lat\"],dimObs[\"lon\"]])\n",
    "lat2dt_subobs  = xr.DataArray(np.zeros((ny_subobs,nx_subobs)),dims=[dimObs[\"lat\"],dimObs[\"lon\"]])\n",
    "mask2dt_subobs = xr.DataArray(np.zeros((ny_subobs,nx_subobs)),dims=[dimObs[\"lat\"],dimObs[\"lon\"]])\n",
    "SST_subobs     = xr.DataArray(np.zeros((nt_subobs,ny_subobs,nx_subobs)),dims=[dimObs[\"time\"],dimObs[\"lat\"],dimObs[\"lon\"]])\n",
    "\n",
    "time_subobs = xr.DataArray(np.empty((nt_subobs)),dims=[dimObs[\"time\"]])\n",
    "stimeYYYYMMDD_subobs = np.empty((nt_subobs), dtype=\"object\")\n",
    "\n",
    " # Open multiple files as a single datasets with open_mfdataset() functions\n",
    "with xr.open_mfdataset(list(map(lambda x: path_data[\"sat\"]+\"/\"+x, file_satsst))) as ds_sat:\n",
    "    # print(ds_sat)\n",
    "\n",
    "    lon1dt_subobs[0:nx_subobs] = ds_sat[crdObs[\"lon\"]].isel(lon=range(idx_lon0,idx_lon1+1))\n",
    "    lat1dt_subobs[0:ny_subobs] = ds_sat[crdObs[\"lat\"]].isel(lat=range(idx_lat0,idx_lat1+1))\n",
    "\n",
    "    # Builds 2D grids from 1D arrays\n",
    "    xx,yy = np.meshgrid(lon1dt_subobs[0:nx_subobs],lat1dt_subobs[0:ny_subobs])\n",
    "    lon2dt_subobs[0:ny_subobs,0:nx_subobs] = xr.DataArray(xx)\n",
    "    lat2dt_subobs[0:ny_subobs,0:nx_subobs] = xr.DataArray(yy)\n",
    "\n",
    "    time_subobs[0:nt_subobs] = ds_sat[crdObs[\"time\"]]\n",
    "    stimeYYYYMMDD_subobs[0:nt_subobs] = np.datetime_as_string(ds_sat[crdObs[\"time\"]], unit='m')\n",
    "\n",
    "    SST_subobs[0:nt_subobs,0:ny_subobs,0:nx_subobs] = ds_sat[varObs[\"sst\"]].isel(lat=range(idx_lat0,idx_lat1+1)).isel(lon=range(idx_lon0,idx_lon1+1)) - 273.15\n",
    "\n",
    "    mask2dt_subobs[0:ny_subobs,0:nx_subobs] = xr.where(np.isnan(SST_subobs[0,0:ny_subobs,0:nx_subobs]), 0., 1.)\n"
   ]
  },
  {
   "cell_type": "markdown",
   "metadata": {},
   "source": [
    "# 6) Interpolate model SST on the satellite SST grid "
   ]
  },
  {
   "cell_type": "markdown",
   "metadata": {},
   "source": [
    "[Go back to the \"Table of contents\"](#Table-of-contents)"
   ]
  },
  {
   "cell_type": "markdown",
   "metadata": {},
   "source": [
    "## Compute (time-averaged) nested model SST"
   ]
  },
  {
   "cell_type": "markdown",
   "metadata": {},
   "source": [
    "The satellite SST data are representative of night SST values (centered at 00:00 UTC). So, before comparing measured and model data, we average over time (from 21:00 pm to 6:00 am) the model SST."
   ]
  },
  {
   "cell_type": "code",
   "execution_count": null,
   "metadata": {},
   "outputs": [],
   "source": [
    "SST_childAv = xr.DataArray(np.zeros((ndays,ny_child,nx_child)), dims=[dimObs[\"time\"],dimChild[\"lat\"],dimChild[\"lon\"]])\n",
    "\n",
    "for iday in range(ndays):\n",
    "\n",
    "    print(\" Day(\"+str(iday)+\"):\"+stimeYYYYMMDD_subobs[iday])\n",
    "\n",
    "    # le medie SSTMOD-CHILD dalle 21:00 alle 6:00\n",
    "    if(iday == 0):\n",
    "        itimeSST = 0\n",
    "        dtimeSST = 6\n",
    "    elif(iday == 1):\n",
    "        itimeSST = 21\n",
    "        dtimeSST = 9\n",
    "    else:\n",
    "        itimeSST = itimeSST + 24\n",
    "        dtimeSST = 9\n",
    "    # print(list(range(itimeSST,itimeSST+dtimeSST)))\n",
    "    somma2D = xr.DataArray(np.zeros((ny_child,nx_child)),dims=[dimChild[\"lat\"],dimChild[\"lon\"]])\n",
    "    for itime in range(itimeSST,itimeSST+dtimeSST):\n",
    "        somma2D[0:ny_child,0:nx_child] = somma2D[0:ny_child,0:nx_child] +  SST_child[itime,0:ny_child,0:nx_child]\n",
    "\n",
    "    SST_childAv[iday,0:ny_child,0:nx_child] = somma2D[0:ny_child,0:nx_child] / dtimeSST\n"
   ]
  },
  {
   "cell_type": "markdown",
   "metadata": {},
   "source": [
    "## Interpolate nested model SST on the Satellite SST Grid"
   ]
  },
  {
   "cell_type": "code",
   "execution_count": null,
   "metadata": {},
   "outputs": [],
   "source": [
    "SST_childAv_grObs = xr.DataArray(np.zeros((ndays,ny_subobs,nx_subobs)),dims=[dimObs[\"time\"],dimObs[\"lat\"],dimObs[\"lon\"]])\n",
    "\n",
    "lon2dt_child_np = lon2dt_child.values\n",
    "lat2dt_child_np = lat2dt_child.values\n",
    "for iday in range(ndays):\n",
    "\n",
    "    print(\" Day(\"+str(iday)+\"):\"+stimeYYYYMMDD_subobs[iday])\n",
    "    \n",
    "    SST_childAv_np = SST_childAv.values[iday,:]\n",
    "    # Interpolate SST from ChildGrid to Satellite grid points\n",
    "    SST_childAv_grObs[iday,:]=interpolate.griddata((lon2dt_child_np.flatten(),lat2dt_child_np.flatten()),\n",
    "                     SST_childAv_np.flatten(), (lon2dt_subobs,lat2dt_subobs), method='linear')"
   ]
  },
  {
   "cell_type": "markdown",
   "metadata": {},
   "source": [
    "# 7) Exercise n.1: Generate model and satellite SST maps"
   ]
  },
  {
   "cell_type": "markdown",
   "metadata": {},
   "source": [
    "[Go back to the \"Table of contents\"](#Table-of-contents)"
   ]
  },
  {
   "cell_type": "markdown",
   "metadata": {},
   "source": [
    " ### Define general plotting functions"
   ]
  },
  {
   "cell_type": "code",
   "execution_count": null,
   "metadata": {},
   "outputs": [],
   "source": [
    "def plot_2Dfield_xy(filename,topString,colorBar,\n",
    "                    nlon,nlat,lon2d,lat2d,fieldxy,\n",
    "                    proj,lbOrient,labTitleStr,\n",
    "                    minLatF,maxLatF,minLonF,maxLonF,\n",
    "                    minLevelVal,maxLevelVal,levelSpacing):\n",
    "\n",
    "    # Define the figure size\n",
    "    mydpi = 100 # (dots per inch) where 1 dot is one pixel\n",
    "    w_in, h_in = 10, 10\n",
    "    fig_size = (w_in, h_in) #size in inches\n",
    "\n",
    "    if proj == 'platecarree':\n",
    "        projection = ccrs.PlateCarree()\n",
    "        \n",
    "    # Define the figure and each axis for the n-rows and m-columns\n",
    "    fig, axs = plt.subplots(subplot_kw={'projection': projection},\n",
    "                              figsize=fig_size)\n",
    "    \n",
    "    res = '10m'\n",
    "\n",
    "    # Adds coastlines to the current axes\n",
    "    axs.coastlines(resolution=res, linewidths=0.5)# Turn on continent shading\n",
    "    axs.add_feature(cfeature.LAND.with_scale(res),facecolor='lightgray')\n",
    "    axs.add_feature(cfeature.COASTLINE)\n",
    "\n",
    "    # Set a title for the axes.\n",
    "    axs.set_title(topString, fontsize=13)\n",
    "\n",
    "    # Add grid lines to the current axes\n",
    "    gl = axs.gridlines(crs=ccrs.PlateCarree(), draw_labels=False,\n",
    "                       linewidth=2, color='gray', alpha=0.5, linestyle='--')\n",
    "    gl.top_labels = False\n",
    "    gl.right_labels = False\n",
    "    gl.xlines = False\n",
    "    gl.ylines = False\n",
    "    gl.xlabel_style = {'size': 11, 'color': 'black'}\n",
    "    gl.ylabel_style = {'size': 11, 'color': 'black'}\n",
    "\n",
    "    # Add ticks-location, ticks-labels and their styles\n",
    "    dx_ticks=0.5\n",
    "    dy_ticks=0.5\n",
    "    xticks=np.arange(math.floor(minLonF), math.ceil(maxLonF), dx_ticks)\n",
    "    yticks=np.arange(math.floor(minLatF), math.ceil(maxLatF), dy_ticks)\n",
    "    axs.set_xticks(xticks, crs=ccrs.PlateCarree())\n",
    "    axs.set_yticks(yticks, crs=ccrs.PlateCarree())\n",
    "    axs.set_xticklabels(xticks, rotation=0, fontsize=11)\n",
    "    axs.set_yticklabels(yticks, rotation=0, fontsize=11)\n",
    "    lon_formatter = cticker.LongitudeFormatter()\n",
    "    lat_formatter = cticker.LatitudeFormatter()\n",
    "    axs.xaxis.set_major_formatter(lon_formatter)\n",
    "    axs.yaxis.set_major_formatter(lat_formatter)\n",
    "\n",
    "    # plot contours\n",
    "    nlevels = math.floor((maxLevelVal-minLevelVal)/levelSpacing)\n",
    "\n",
    "    levels = np.linspace(minLevelVal, maxLevelVal, nlevels)\n",
    "    scalar = axs.contourf(lon2d[0:nlat,0:nlon], lat2d[0:nlat,0:nlon], fieldxy[0:nlat,0:nlon],\n",
    "                          levels=levels, cmap=colorBar,extend='both')\n",
    "    \n",
    "    # add colorbar\n",
    "    axins = inset_axes(axs,width=\"100%\", height=\"5%\",loc='lower center',borderpad=-5)\n",
    "    fmt = lambda x, pos: '{:,.2f}'.format(x)\n",
    "    cbar = fig.colorbar(scalar, cax=axins, orientation=lbOrient, format=FuncFormatter(fmt), ax=fig.axes)\n",
    "    cbar.ax.set_title(labTitleStr)\n",
    "\n",
    "    # Set the map extension (x0,x1,y0,y1) in the given coord. system\n",
    "    axs.set_extent([minLonF,maxLonF,minLatF,maxLatF])\n",
    "    \n",
    "    # Display the figure\n",
    "    # plt.show()\n",
    "    \n",
    "    # Save the current figure to a file\n",
    "    fig.savefig(filename+'.png',bbox_inches='tight',dpi=mydpi)\n",
    "\n",
    "    # Close a window,\n",
    "    plt.close(fig)"
   ]
  },
  {
   "cell_type": "markdown",
   "metadata": {},
   "source": [
    "### Configure the plot"
   ]
  },
  {
   "cell_type": "code",
   "execution_count": null,
   "metadata": {},
   "outputs": [],
   "source": [
    "minLonF = np.min(lon1dt_child)\n",
    "maxLonF = np.max(lon1dt_child)\n",
    "minLatF = np.min(lat1dt_child)\n",
    "maxLatF = np.max(lat1dt_child)\n",
    "\n",
    "colorBarOce = {}\n",
    "colorBarOce['temp_colorTab']='jet' #rainbow\n",
    "colorBarOce['temp_rangexy_min']  = 14.0\n",
    "colorBarOce['temp_rangexy_max']  = 19.0\n",
    "colorBarOce['temp_rangexy_delta']= 0.2\n",
    "\n",
    "lbTitle = \"Temperature [C]\"\n",
    "mapProj = 'platecarree'\n",
    "lbOrient   = 'horizontal'\n"
   ]
  },
  {
   "cell_type": "markdown",
   "metadata": {},
   "source": [
    "### Generate Satellite-SST maps"
   ]
  },
  {
   "cell_type": "code",
   "execution_count": null,
   "metadata": {},
   "outputs": [],
   "source": [
    "base_name = \"sstObs\"\n",
    "for iday in range(ndays):\n",
    "    filename   = base_name + \"_t\"+'{:03d}'.format(iday)\n",
    "    filepath_img = path_figure['sat']+\"/\"+filename\n",
    "    if os.path.isfile(filepath_img+\".png\"): os.remove(filepath_img+\".png\")\n",
    "    topString =  \"Day(\"+str(iday)+\")=\"+str(stimeYYYYMMDD_subobs[iday]) + \"  range=[\"+ \\\n",
    "                  \"{:.2f}\".format(np.nanmin(SST_subobs[iday,0:ny_subobs,0:nx_subobs].values))+\", \"+\\\n",
    "                  \"{:.2f}\".format(np.nanmax(SST_subobs[iday,0:ny_subobs,0:nx_subobs].values))+\"]\"\n",
    "    print(\" ### SST Satellite  Day(\"+str(iday)+\"):\"+str(stimeYYYYMMDD_subobs[iday]))\n",
    "\n",
    "    plot_2Dfield_xy(filepath_img,topString,colorBarOce['temp_colorTab'],\n",
    "                    nx_subobs,ny_subobs,\n",
    "                    lon2dt_subobs.isel(lat=range(ny_subobs)).isel(lon=range(nx_subobs)),\n",
    "                    lat2dt_subobs.isel(lat=range(ny_subobs)).isel(lon=range(nx_subobs)),\n",
    "                    SST_subobs.isel(time=iday).isel(lat=range(ny_subobs)).isel(lon=range(nx_subobs)),\n",
    "                    mapProj,lbOrient,lbTitle,\n",
    "                    minLatF,maxLatF,minLonF,maxLonF,\n",
    "                    colorBarOce['temp_rangexy_min'],colorBarOce['temp_rangexy_max'],colorBarOce['temp_rangexy_delta'])\n"
   ]
  },
  {
   "cell_type": "markdown",
   "metadata": {},
   "source": [
    "### Generate (time-averaged) nested model SST"
   ]
  },
  {
   "cell_type": "code",
   "execution_count": null,
   "metadata": {},
   "outputs": [],
   "source": [
    "base_name = \"sstChildAv\"\n",
    "for iday in range(ndays):\n",
    "    filename   = base_name + \"_t\"+'{:03d}'.format(iday)\n",
    "    filepath_img = path_figure[\"child\"]+\"/\"+filename\n",
    "    if os.path.isfile(filepath_img+\".png\"): os.remove(filepath_img+\".png\")\n",
    "    topString =  \"Day(\"+str(iday)+\")=\"+str(stimeYYYYMMDD_child[iday]) + \"  range=[\"+ \\\n",
    "                  \"{:.2f}\".format(np.nanmin(SST_child[0:ny_child,0:nx_child].values))+\", \"+\\\n",
    "                  \"{:.2f}\".format(np.nanmax(SST_child[0:ny_child,0:nx_child].values))+\"]\"\n",
    "    \n",
    "    print(\" ### SST Child-Model Average[21:00-6:00]  Day(\"+str(iday)+\"):\"+str(stimeYYYYMMDD_child[iday]))\n",
    "    colorBarOce['temp_colorTab']='jet' #rainbow\n",
    "    plot_2Dfield_xy(filepath_img,topString,colorBarOce['temp_colorTab'],\n",
    "                    nx_child,ny_child,\n",
    "                    lon2dt_child,\n",
    "                    lat2dt_child,\n",
    "                    SST_childAv.isel(time=iday),\n",
    "                    mapProj,lbOrient,lbTitle,\n",
    "                    minLatF,maxLatF,minLonF,maxLonF,\n",
    "                    colorBarOce['temp_rangexy_min'],colorBarOce['temp_rangexy_max'],colorBarOce['temp_rangexy_delta'])\n"
   ]
  },
  {
   "cell_type": "markdown",
   "metadata": {},
   "source": [
    "### Generate (time-averaged) nested model SST on Satellite-Grid"
   ]
  },
  {
   "cell_type": "code",
   "execution_count": null,
   "metadata": {},
   "outputs": [],
   "source": [
    "base_name = \"sstChildAV_grObs\"\n",
    "for iday in range(ndays):\n",
    "    filename   = base_name + \"_t\"+'{:03d}'.format(iday)\n",
    "    filepath_img = path_figure[\"child\"]+\"/\"+filename\n",
    "    if os.path.isfile(filepath_img+\".png\"): os.remove(filepath_img+\".png\")\n",
    "    topString =  \"Day(\"+str(iday)+\")=\"+str(stimeYYYYMMDD_subobs[iday]) + \"  range=[\"+ \\\n",
    "                  \"{:.2f}\".format(np.nanmin(SST_childAv_grObs[iday,0:ny_child,0:nx_child].values))+\", \"+\\\n",
    "                  \"{:.2f}\".format(np.nanmax(SST_childAv_grObs[iday,0:ny_child,0:nx_child].values))+\"]\"\n",
    "    print(\" ### SST Child-Model Average[21:00-6:00] on Satellite-Grid  Day(\"+str(iday)+\"):\"+str(stimeYYYYMMDD_subobs[iday]))      \n",
    "    \n",
    "    plot_2Dfield_xy(filepath_img,topString,colorBarOce['temp_colorTab'],\n",
    "                    nx_subobs,ny_subobs,\n",
    "                    lon2dt_subobs.isel(lat=range(ny_subobs)).isel(lon=range(nx_subobs)),\n",
    "                    lat2dt_subobs.isel(lat=range(ny_subobs)).isel(lon=range(nx_subobs)),\n",
    "                    SST_childAv_grObs.isel(time=iday).isel(lat=range(ny_subobs)).isel(lon=range(nx_subobs)),\n",
    "                    mapProj,lbOrient,lbTitle,\n",
    "                    minLatF,maxLatF,minLonF,maxLonF,\n",
    "                    colorBarOce['temp_rangexy_min'],colorBarOce['temp_rangexy_max'],colorBarOce['temp_rangexy_delta'])\n"
   ]
  },
  {
   "cell_type": "markdown",
   "metadata": {},
   "source": [
    "# 8) Exercise n.2: Compute and plot RMSE between Model and Satellite SST"
   ]
  },
  {
   "cell_type": "markdown",
   "metadata": {},
   "source": [
    "[Go back to the \"Table of contents\"](#Table-of-contents)"
   ]
  },
  {
   "cell_type": "markdown",
   "metadata": {},
   "source": [
    "## Compute Root-Mean-Square-Error (Model VS Satellite)"
   ]
  },
  {
   "cell_type": "code",
   "execution_count": null,
   "metadata": {},
   "outputs": [],
   "source": [
    "rmseSST_childAv = np.full([ndays], np.nan)\n",
    "\n",
    "for iday in range(ndays):\n",
    "\n",
    "    print(\" ### Day(\"+str(iday)+\"):\"+stimeYYYYMMDD_subobs[iday])\n",
    "    \n",
    "    rmseSST_childAv_temp = 0.\n",
    "    N=0\n",
    "    for iy in range(ny_subobs):\n",
    "        for ix in range(nx_subobs):\n",
    "            if (( not np.isnan(SST_childAv_grObs[iday,iy,ix])) and ( not np.isnan(SST_subobs[iday,iy,ix]))):\n",
    "                N=N+1\n",
    "                rmseSST_childAv_temp = rmseSST_childAv_temp + (SST_childAv_grObs[iday,iy,ix]-SST_subobs[iday,iy,ix])**2\n",
    "                # print(f\"iy={iy} ix={ix} N={N} SST_childAv_grObs={SST_childAv_grObs[iday,iy,ix]} SST_subobs={SST_subobs[iday,iy,ix]} rmseSST_childAv_temp={rmseSST_childAv_temp}\")\n",
    "    if (N > 0): rmseSST_childAv[iday] = np.sqrt(rmseSST_childAv_temp/N)\n",
    "\n",
    "    print(\"     rmseSST_childAv=\"+str(rmseSST_childAv[iday]) )\n",
    "        \n"
   ]
  },
  {
   "cell_type": "markdown",
   "metadata": {},
   "source": [
    " ### Define general plotting functions"
   ]
  },
  {
   "cell_type": "code",
   "execution_count": null,
   "metadata": {},
   "outputs": [],
   "source": [
    "def plot_1Dfield(filename,topString,\n",
    "                nx,xArray,yArray,\n",
    "                xminF,xmaxF,yminF,ymaxF,\n",
    "                xAxisLab,yAxisLab,\n",
    "                lineColor,legendLab,legendPos,yReverse):\n",
    "\n",
    "    # Define the figure size\n",
    "    mydpi = 100 # (dots per inch) where 1 dot is one pixel\n",
    "    w_in, h_in = 10, 10\n",
    "    fig_size = (w_in, h_in) #size in inches\n",
    "\n",
    "    fig, axs = plt.subplots(figsize=fig_size)\n",
    "\n",
    "    # Plot y versus x as lines for each Axes\n",
    "    axs.plot(xArray, yArray, linestyle='-', marker='o', color=lineColor, label=legendLab)\n",
    "    # axs.plot(xArray, yArray)\n",
    "\n",
    "    # Reverse the y axis\n",
    "    if (yReverse): axs.invert_yaxis()\n",
    "\n",
    "    #set tick labels font to size 20\n",
    "    axs.tick_params(axis='x', labelsize=15)\n",
    "    axs.tick_params(axis='y', labelsize=15)\n",
    "\n",
    "    # Add a legend on the Axes\n",
    "    axs.legend(loc=legendPos, fontsize=15)\n",
    "\n",
    "    # Set title and x-y axis labels for the Axes\n",
    "    axs.set_title(topString, fontsize=15)\n",
    "    axs.set_xlabel(xAxisLab, fontsize=15)\n",
    "    axs.set_ylabel(yAxisLab, fontsize=15)\n",
    "\n",
    "    # Set the y-axis view limits for the Axes\n",
    "    axs.set_ylim(yminF, ymaxF)\n",
    "\n",
    "    # Display the figure\n",
    "    # plt.show()\n",
    "    \n",
    "    # Save the current figure to a file\n",
    "    fig.savefig(filename+'.png',bbox_inches='tight',dpi=mydpi)\n",
    "\n",
    "    # Close a window,\n",
    "    plt.close(fig)"
   ]
  },
  {
   "cell_type": "markdown",
   "metadata": {},
   "source": [
    "### Configure the plot"
   ]
  },
  {
   "cell_type": "code",
   "execution_count": null,
   "metadata": {},
   "outputs": [],
   "source": [
    "xAxisLab  = \"Date\"\n",
    "yAxisLab  = \"RMSE\"\n",
    "legendLab = \"RMSE ChildAv-Sat\"\n",
    "yReverse  = False\n",
    "legendPos =  \"upper right\" #\"upper left\", \"lower left\", \"center right\"\n",
    "colorLine = \"red\"\n",
    "xminF = 1\n",
    "xmaxF = 2\n",
    "yminF = 0.4\n",
    "ymaxF = 0.85"
   ]
  },
  {
   "cell_type": "markdown",
   "metadata": {},
   "source": [
    " ### Plot RMSE (Model VS Satellite)"
   ]
  },
  {
   "cell_type": "code",
   "execution_count": null,
   "metadata": {},
   "outputs": [],
   "source": [
    "filename   = \"RMSE_childAv-Sat\"\n",
    "filepath_img = path_figure[\"child\"]+\"/\"+filename\n",
    "if os.path.isfile(filepath_img+\".png\"): os.remove(filepath_img+\".png\")\n",
    "topString = \"Root Mean Square Error - NEST1\" + \"  range=[\"+ \\\n",
    "                  \"{:.2f}\".format(np.nanmin(rmseSST_childAv[0:ndays]))+\", \"+\\\n",
    "                  \"{:.2f}\".format(np.nanmax(rmseSST_childAv[0:ndays]))+\"]\"\n",
    "\n",
    "yArray = rmseSST_childAv[0:ndays]\n",
    "xArray = [np.array(stimeYYYYMMDD_subobs[it], dtype=np.datetime64) for it in range(nt_subobs)]\n",
    "\n",
    "plot_1Dfield(filepath_img,topString,\n",
    "             ndays,xArray,yArray,\n",
    "             xminF,xmaxF,yminF,ymaxF,xAxisLab,yAxisLab,\n",
    "             colorLine,legendLab,legendPos,yReverse)"
   ]
  },
  {
   "cell_type": "code",
   "execution_count": null,
   "metadata": {},
   "outputs": [],
   "source": []
  }
 ],
 "metadata": {
  "kernelspec": {
   "display_name": "Python 3",
   "language": "python",
   "name": "python3"
  },
  "language_info": {
   "codemirror_mode": {
    "name": "ipython",
    "version": 3
   },
   "file_extension": ".py",
   "mimetype": "text/x-python",
   "name": "python",
   "nbconvert_exporter": "python",
   "pygments_lexer": "ipython3",
   "version": "3.7.6"
  }
 },
 "nbformat": 4,
 "nbformat_minor": 5
}
